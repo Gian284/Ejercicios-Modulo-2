{
 "cells": [
  {
   "cell_type": "code",
   "execution_count": 24,
   "id": "91b6d40a",
   "metadata": {},
   "outputs": [
    {
     "name": "stdout",
     "output_type": "stream",
     "text": [
      "num1 = 9\n",
      "num2 = 0.5\n"
     ]
    }
   ],
   "source": [
    "num1 = 2\n",
    "num2 = 3\n",
    "num1 +=1\n",
    "num2 -=2\n",
    "num1 *=3\n",
    "num2 /=2\n",
    "print (\"num1 =\", num1)\n",
    "print (\"num2 =\", num2)"
   ]
  },
  {
   "cell_type": "code",
   "execution_count": 16,
   "id": "02878c81",
   "metadata": {},
   "outputs": [
    {
     "name": "stdout",
     "output_type": "stream",
     "text": [
      "username:\n",
      "Password\n"
     ]
    },
    {
     "data": {
      "text/plain": [
       "(None, False)"
      ]
     },
     "execution_count": 16,
     "metadata": {},
     "output_type": "execute_result"
    }
   ],
   "source": [
    "username = input(\"Escribe un nombre de usuario\")\n",
    "password = input(\"Introduce la contraseña\")\n",
    "print(\"username:\"), len(username) >= 3 and len(username) <10\n",
    "print(\"Password\"), password == \"Tokio\" or password == \"Python\""
   ]
  },
  {
   "cell_type": "code",
   "execution_count": 13,
   "id": "852eb275",
   "metadata": {},
   "outputs": [
    {
     "name": "stdout",
     "output_type": "stream",
     "text": [
      "434.1019417475728\n",
      "434.1\n"
     ]
    }
   ],
   "source": [
    "import math\n",
    "operacion =(365/12.36) * 14.7\n",
    "print(operacion)\n",
    "print(round(operacion,2))"
   ]
  },
  {
   "cell_type": "code",
   "execution_count": 3,
   "id": "ecbc2405",
   "metadata": {},
   "outputs": [
    {
     "name": "stdout",
     "output_type": "stream",
     "text": [
      "la nota media es 6.0\n"
     ]
    }
   ],
   "source": [
    "Nota_1 = 9\n",
    "nota_2 = 5\n",
    "nota_3 = 2\n",
    "nota_4 = 4\n",
    "nota_5 = 10\n",
    "media = (Nota_1 + nota_2 + nota_3 + nota_4 + nota_5) / 5\n",
    "print (\"la nota media es\", media)"
   ]
  }
 ],
 "metadata": {
  "kernelspec": {
   "display_name": "Python 3",
   "language": "python",
   "name": "python3"
  },
  "language_info": {
   "codemirror_mode": {
    "name": "ipython",
    "version": 3
   },
   "file_extension": ".py",
   "mimetype": "text/x-python",
   "name": "python",
   "nbconvert_exporter": "python",
   "pygments_lexer": "ipython3",
   "version": "3.12.1"
  }
 },
 "nbformat": 4,
 "nbformat_minor": 5
}
