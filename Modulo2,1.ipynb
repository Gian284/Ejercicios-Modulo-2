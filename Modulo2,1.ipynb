{
 "cells": [
  {
   "cell_type": "code",
   "execution_count": null,
   "id": "852eb275",
   "metadata": {},
   "outputs": [],
   "source": []
  },
  {
   "cell_type": "code",
   "execution_count": 3,
   "id": "ecbc2405",
   "metadata": {},
   "outputs": [
    {
     "name": "stdout",
     "output_type": "stream",
     "text": [
      "la nota media es 6.0\n"
     ]
    }
   ],
   "source": [
    "Nota_1 = 9\n",
    "nota_2 = 5\n",
    "nota_3 = 2\n",
    "nota_4 = 4\n",
    "nota_5 = 10\n",
    "media = (Nota_1 + nota_2 + nota_3 + nota_4 + nota_5) / 5\n",
    "print (\"la nota media es\", media)"
   ]
  }
 ],
 "metadata": {
  "kernelspec": {
   "display_name": "Python 3",
   "language": "python",
   "name": "python3"
  },
  "language_info": {
   "codemirror_mode": {
    "name": "ipython",
    "version": 3
   },
   "file_extension": ".py",
   "mimetype": "text/x-python",
   "name": "python",
   "nbconvert_exporter": "python",
   "pygments_lexer": "ipython3",
   "version": "3.12.1"
  }
 },
 "nbformat": 4,
 "nbformat_minor": 5
}
