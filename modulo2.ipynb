{
 "cells": [
  {
   "cell_type": "code",
   "execution_count": 2,
   "id": "4235324c",
   "metadata": {},
   "outputs": [
    {
     "name": "stdout",
     "output_type": "stream",
     "text": [
      "GiancarloVargas Nishihira\n",
      "GiancarloVargas Nishihira.\n",
      "GiancarloGiancarloGiancarlo\n"
     ]
    }
   ],
   "source": [
    "nombre = \"Giancarlo\"\n",
    "apellido = \"Vargas Nishihira\"\n",
    "\n",
    "print(nombre + apellido)\n",
    "print(nombre + apellido + \".\")\n",
    "print(nombre * 3)"
   ]
  },
  {
   "cell_type": "code",
   "execution_count": 1,
   "id": "6f0bcf43",
   "metadata": {},
   "outputs": [],
   "source": [
    "n = 7\n",
    "flotante = 3.14\n",
    "string = \"hola\"\n",
    "booleano = True"
   ]
  }
 ],
 "metadata": {
  "kernelspec": {
   "display_name": "Python 3",
   "language": "python",
   "name": "python3"
  },
  "language_info": {
   "codemirror_mode": {
    "name": "ipython",
    "version": 3
   },
   "file_extension": ".py",
   "mimetype": "text/x-python",
   "name": "python",
   "nbconvert_exporter": "python",
   "pygments_lexer": "ipython3",
   "version": "3.12.1"
  }
 },
 "nbformat": 4,
 "nbformat_minor": 5
}
